{
 "cells": [
  {
   "cell_type": "markdown",
   "metadata": {},
   "source": [
    "# Load Data\n",
    "We already have the raw data in S3 from our previous pipeline renditions."
   ]
  },
  {
   "cell_type": "markdown",
   "metadata": {},
   "source": [
    "# Define a Pipeline\n",
    "In addition to previous pipeline additions, we will now incorporate a custom training script which will allow us to train a SKLearn Decision Tree Classifier Model.\n",
    "\n",
    "The main changes from previous pipelines are summarised below:\n",
    "* Adapted quality gate; ValidationAccuracy parameter will be used for our FailStep to determine whether the model has yielded good enough results to warrant its registration to the model registry.\n",
    "* Instead of using Sagemaker's in-built XGBoost algorithm, we will use the SKLearn estimator with a custom training script.\n"
   ]
  },
  {
   "cell_type": "code",
   "execution_count": 12,
   "metadata": {},
   "outputs": [],
   "source": [
    "import sagemaker\n",
    "\n",
    "from sagemaker.workflow.pipeline import Pipeline\n",
    "from sagemaker.workflow.pipeline_context import PipelineSession\n",
    "\n",
    "from sagemaker.workflow.steps import ProcessingStep\n",
    "from sagemaker.sklearn.processing import SKLearnProcessor\n",
    "from sagemaker.processing import (\n",
    "    ProcessingInput,\n",
    "    ProcessingOutput\n",
    ")\n",
    "\n",
    "from sagemaker.inputs import TrainingInput\n",
    "\n",
    "from sagemaker.workflow.steps import TrainingStep\n",
    "from sagemaker.workflow.fail_step import FailStep\n",
    "from sagemaker.workflow.condition_step import ConditionStep\n",
    "\n",
    "from sagemaker.workflow.conditions import ConditionLessThanOrEqualTo, ConditionGreaterThanOrEqualTo\n",
    "from sagemaker.workflow.functions import Join\n",
    "\n",
    "from sagemaker.workflow.parameters import (\n",
    "    ParameterInteger,\n",
    "    ParameterString,\n",
    "    ParameterFloat,\n",
    "    ParameterBoolean\n",
    ")"
   ]
  },
  {
   "cell_type": "markdown",
   "metadata": {},
   "source": [
    "Define pipeline parameters"
   ]
  },
  {
   "cell_type": "code",
   "execution_count": 13,
   "metadata": {},
   "outputs": [],
   "source": [
    "# high-level\n",
    "session = sagemaker.Session()\n",
    "role = sagemaker.get_execution_role()\n",
    "pipeline_session = PipelineSession()\n",
    "bucket = 'sagemaker-fraud-detection-ml'\n",
    "\n",
    "# pipeline parameters\n",
    "tree_max_depth = ParameterInteger(\n",
    "    name='TreeMaxDepth',\n",
    "    default_value=5\n",
    ")\n",
    "min_validation_accuracy = ParameterFloat(\n",
    "    name='MinValidationAccuracyToRegisterModel',\n",
    "    default_value=0.85\n",
    ")"
   ]
  },
  {
   "cell_type": "markdown",
   "metadata": {},
   "source": [
    "Define processing step"
   ]
  },
  {
   "cell_type": "code",
   "execution_count": 14,
   "metadata": {},
   "outputs": [
    {
     "name": "stderr",
     "output_type": "stream",
     "text": [
      "INFO:sagemaker.image_uris:Defaulting to only available Python version: py3\n"
     ]
    }
   ],
   "source": [
    "processor = SKLearnProcessor(\n",
    "    framework_version='1.0-1',\n",
    "    role=role,\n",
    "    instance_type='ml.m5.large',\n",
    "    instance_count=1                          \n",
    ")\n",
    "\n",
    "preprocessing_step = ProcessingStep(\n",
    "    name='FraudDetectionProcess',\n",
    "    processor=processor,\n",
    "    code='data_processing.py',\n",
    "    inputs=[\n",
    "    \n",
    "    # define where the processor needs to look to find raw data \n",
    "        ProcessingInput(\n",
    "            input_name='raw-data',\n",
    "            source=f's3://{bucket}/raw_data.csv',\n",
    "            destination='/opt/ml/processing/input/data/',\n",
    "            s3_data_distribution_type='ShardedByS3Key'\n",
    "        )\n",
    "    ],\n",
    "\n",
    "    # define where the processor needs to look to find processed data to upload to s3\n",
    "    outputs=[\n",
    "        ProcessingOutput(\n",
    "            output_name='train',\n",
    "            source='/opt/ml/processing/output/train',\n",
    "            s3_upload_mode='EndOfJob'\n",
    "        ),\n",
    "        ProcessingOutput(\n",
    "            output_name='validation',\n",
    "            source='/opt/ml/processing/output/validation',\n",
    "            s3_upload_mode='EndOfJob'\n",
    "        ),\n",
    "        ProcessingOutput(\n",
    "            output_name='test',\n",
    "            source='/opt/ml/processing/output/test',\n",
    "            s3_upload_mode='EndOfJob'\n",
    "        ),\n",
    "    ],\n",
    "    job_arguments=['--input-data', '/opt/ml/processing/input/data/'],\n",
    ")"
   ]
  },
  {
   "cell_type": "markdown",
   "metadata": {},
   "source": [
    "Define processed input data & estimator to train"
   ]
  },
  {
   "cell_type": "code",
   "execution_count": 15,
   "metadata": {},
   "outputs": [],
   "source": [
    "# training inputs are dynamically linked to s3 outputs from the preprocessing step\n",
    "\n",
    "s3_input_train = TrainingInput(\n",
    "    s3_data=Join(\n",
    "        on='/', \n",
    "        values=[\n",
    "            preprocessing_step.properties.ProcessingOutputConfig.Outputs['train'].S3Output.S3Uri,\n",
    "            'train.csv'\n",
    "        ]\n",
    "    ),\n",
    "    content_type='csv'\n",
    ")\n",
    "s3_input_validate = TrainingInput(\n",
    "    s3_data=Join(\n",
    "        on='/',\n",
    "        values=[\n",
    "            preprocessing_step.properties.ProcessingOutputConfig.Outputs['validation'].S3Output.S3Uri,\n",
    "            'validation.csv'\n",
    "        ]\n",
    "    ),\n",
    "    content_type='csv'\n",
    ")"
   ]
  },
  {
   "cell_type": "code",
   "execution_count": 16,
   "metadata": {},
   "outputs": [],
   "source": [
    "from sagemaker.sklearn.estimator import SKLearn\n",
    "\n",
    "hyperparameters={\n",
    "    'max-depth': tree_max_depth,\n",
    "    'min-samples-split': 2\n",
    "}\n",
    "\n",
    "# Regex tells Sagemaker what to look out for in the training logs.\n",
    "# whatever this matches, this will be reported as metrics in the Sagemaker Pipeline\n",
    "metric_definitions=metric_definitions = [\n",
    "     {'Name': 'training:accuracy', 'Regex': 'train_acc: ([0-9.]+)'},\n",
    "     {'Name': 'validation:accuracy', 'Regex': 'val_acc: ([0-9.]+)'},\n",
    "]\n",
    "\n",
    "estimator = SKLearn(\n",
    "    entry_point='train.py',\n",
    "    source_dir='.',\n",
    "    role=role,\n",
    "    instance_count=1,\n",
    "    instance_type='ml.m5.large',\n",
    "    py_version='py3',\n",
    "    framework_version='1.0-1',\n",
    "    hyperparameters=hyperparameters,\n",
    "    metric_definitions=metric_definitions,\n",
    "    input_mode='File',\n",
    "    sagemaker_session=pipeline_session\n",
    ")"
   ]
  },
  {
   "cell_type": "code",
   "execution_count": 17,
   "metadata": {},
   "outputs": [
    {
     "name": "stderr",
     "output_type": "stream",
     "text": [
      "INFO:sagemaker.telemetry.telemetry_logging:SageMaker Python SDK will collect telemetry to help us better understand our user's needs, diagnose issues, and deliver additional features.\n",
      "To opt out of telemetry, please disable via TelemetryOptOut parameter in SDK defaults config. For more information, refer to https://sagemaker.readthedocs.io/en/stable/overview.html#configuring-and-using-defaults-with-the-sagemaker-python-sdk.\n"
     ]
    }
   ],
   "source": [
    "training_step = TrainingStep(\n",
    "    name='TrainingStep',\n",
    "    step_args=estimator.fit(\n",
    "        inputs={\n",
    "            'train': s3_input_train,\n",
    "            'validation': s3_input_validate\n",
    "        },\n",
    "    )\n",
    ")"
   ]
  },
  {
   "cell_type": "markdown",
   "metadata": {},
   "source": [
    "Register model step (if conditional step is a success)"
   ]
  },
  {
   "cell_type": "code",
   "execution_count": 18,
   "metadata": {},
   "outputs": [],
   "source": [
    "from sagemaker.model import Model\n",
    "from sagemaker.workflow.model_step import ModelStep\n",
    "\n",
    "model = Model(\n",
    "    image_uri=estimator.image_uri,\n",
    "    model_data=training_step.properties.ModelArtifacts.S3ModelArtifacts,\n",
    "    entry_point = estimator.entry_point, # this is necessary because the train.py entry_point contains functions to be executed during inference\n",
    "    sagemaker_session=pipeline_session,\n",
    "    role=role,\n",
    ")\n",
    "\n",
    "register_args = model.register(\n",
    "    content_types=['text/csv'],\n",
    "    response_types=['text/csv'],\n",
    "    inference_instances=['ml.m5.large'],\n",
    "    transform_instances=['ml.m5.large'],\n",
    "    model_package_group_name='fraud-detection-model-group',\n",
    "    approval_status='PendingManualApproval'\n",
    ")\n",
    "\n",
    "register_model_step = ModelStep(\n",
    "    name='FraudDetectionRegisterModel',\n",
    "    step_args=register_args,\n",
    ")"
   ]
  },
  {
   "cell_type": "markdown",
   "metadata": {},
   "source": [
    "Fail the pipeline in the event the validation accuracy is too low"
   ]
  },
  {
   "cell_type": "code",
   "execution_count": 19,
   "metadata": {},
   "outputs": [],
   "source": [
    "fail_step = FailStep(\n",
    "    name='FailStep',\n",
    "    error_message=Join(on=' ', values=['Pipeline was failed due to log loss < ', min_validation_accuracy]),\n",
    ")"
   ]
  },
  {
   "cell_type": "code",
   "execution_count": 20,
   "metadata": {},
   "outputs": [],
   "source": [
    "condition_step = ConditionStep(\n",
    "    name='ModelRegistrationConditionStep',\n",
    "    conditions = [\n",
    "        ConditionGreaterThanOrEqualTo(\n",
    "            left=training_step.properties.FinalMetricDataList['validation:accuracy'].Value,\n",
    "            right=min_validation_accuracy\n",
    "    )],\n",
    "    if_steps=[register_model_step],\n",
    "    else_steps=[fail_step],\n",
    ")"
   ]
  },
  {
   "cell_type": "markdown",
   "metadata": {},
   "source": [
    "Bring steps together to form the pipeline"
   ]
  },
  {
   "cell_type": "code",
   "execution_count": 21,
   "metadata": {},
   "outputs": [],
   "source": [
    "pipeline = Pipeline(\n",
    "    name='fraud-detection-model-pipeline',\n",
    "    steps=[preprocessing_step, training_step, condition_step],\n",
    "    parameters=[tree_max_depth, min_validation_accuracy],\n",
    ")"
   ]
  },
  {
   "cell_type": "code",
   "execution_count": 22,
   "metadata": {},
   "outputs": [
    {
     "name": "stderr",
     "output_type": "stream",
     "text": [
      "WARNING:sagemaker.workflow.utilities:Popping out 'ProcessingJobName' from the pipeline definition by default since it will be overridden at pipeline execution time. Please utilize the PipelineDefinitionConfig to persist this field in the pipeline definition if desired.\n",
      "WARNING:sagemaker.workflow.utilities:Popping out 'TrainingJobName' from the pipeline definition by default since it will be overridden at pipeline execution time. Please utilize the PipelineDefinitionConfig to persist this field in the pipeline definition if desired.\n",
      "WARNING:sagemaker.workflow._utils:Popping out 'CertifyForMarketplace' from the pipeline definition since it will be overridden in pipeline execution time.\n",
      "WARNING:sagemaker.workflow.utilities:Popping out 'ModelPackageName' from the pipeline definition by default since it will be overridden at pipeline execution time. Please utilize the PipelineDefinitionConfig to persist this field in the pipeline definition if desired.\n",
      "WARNING:sagemaker.workflow.utilities:Popping out 'ProcessingJobName' from the pipeline definition by default since it will be overridden at pipeline execution time. Please utilize the PipelineDefinitionConfig to persist this field in the pipeline definition if desired.\n",
      "WARNING:sagemaker.workflow.utilities:Popping out 'TrainingJobName' from the pipeline definition by default since it will be overridden at pipeline execution time. Please utilize the PipelineDefinitionConfig to persist this field in the pipeline definition if desired.\n",
      "WARNING:sagemaker.workflow.utilities:Popping out 'ModelPackageName' from the pipeline definition by default since it will be overridden at pipeline execution time. Please utilize the PipelineDefinitionConfig to persist this field in the pipeline definition if desired.\n"
     ]
    },
    {
     "data": {
      "text/plain": [
       "{'PipelineArn': 'arn:aws:sagemaker:eu-north-1:263108256547:pipeline/fraud-detection-model-pipeline',\n",
       " 'ResponseMetadata': {'RequestId': '556b59bd-df2c-41cd-96a8-cc866772b99c',\n",
       "  'HTTPStatusCode': 200,\n",
       "  'HTTPHeaders': {'x-amzn-requestid': '556b59bd-df2c-41cd-96a8-cc866772b99c',\n",
       "   'strict-transport-security': 'max-age=47304000; includeSubDomains',\n",
       "   'x-frame-options': 'DENY',\n",
       "   'content-security-policy': \"frame-ancestors 'none'\",\n",
       "   'cache-control': 'no-cache, no-store, must-revalidate',\n",
       "   'x-content-type-options': 'nosniff',\n",
       "   'content-type': 'application/x-amz-json-1.1',\n",
       "   'content-length': '121',\n",
       "   'date': 'Fri, 24 Oct 2025 14:52:29 GMT'},\n",
       "  'RetryAttempts': 0}}"
      ]
     },
     "execution_count": 22,
     "metadata": {},
     "output_type": "execute_result"
    }
   ],
   "source": [
    "pipeline.upsert(role_arn=role)"
   ]
  },
  {
   "cell_type": "code",
   "execution_count": 23,
   "metadata": {},
   "outputs": [],
   "source": [
    "# programitically start the pipeline\n",
    "# pipeline.start(\n",
    "#     execution_display_name='conditional-model-registration',\n",
    "#     execution_description='Starting from the SageMaker Studio'\n",
    "# )"
   ]
  },
  {
   "cell_type": "markdown",
   "metadata": {},
   "source": [
    "After running in the UI, a 94% validation accuracy was achieved and so this model was registered to the model registry"
   ]
  },
  {
   "cell_type": "markdown",
   "metadata": {},
   "source": []
  }
 ],
 "metadata": {
  "kernelspec": {
   "display_name": "base",
   "language": "python",
   "name": "python3"
  },
  "language_info": {
   "codemirror_mode": {
    "name": "ipython",
    "version": 3
   },
   "file_extension": ".py",
   "mimetype": "text/x-python",
   "name": "python",
   "nbconvert_exporter": "python",
   "pygments_lexer": "ipython3",
   "version": "3.12.9"
  }
 },
 "nbformat": 4,
 "nbformat_minor": 2
}
