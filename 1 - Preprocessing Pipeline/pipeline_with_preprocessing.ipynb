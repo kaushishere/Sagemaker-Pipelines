{
 "cells": [
  {
   "cell_type": "markdown",
   "metadata": {},
   "source": [
    "# Load Data"
   ]
  },
  {
   "cell_type": "code",
   "execution_count": 7,
   "metadata": {},
   "outputs": [
    {
     "name": "stdout",
     "output_type": "stream",
     "text": [
      "datasets/tabular/anomaly_benchmark_taxi/NAB_nyc_taxi.csv\n",
      "datasets/tabular/atlas_higgs_boson_2014/atlas-higgs-challenge-2014-v2.csv\n",
      "datasets/tabular/brazil_houses/kaggle_brazil_houses_rental_data.csv\n",
      "datasets/tabular/breast_cancer/breast-cancer-wisconsin.csv\n",
      "datasets/tabular/breast_cancer/wdbc.csv\n",
      "datasets/tabular/california_housing/cal_housing.tgz\n",
      "datasets/tabular/chicago_traffic/README.md\n",
      "datasets/tabular/chicago_traffic/speed_camera_violations.csv\n",
      "datasets/tabular/customer-churn/customer-churn-data-v1.zip\n",
      "datasets/tabular/customer-churn/customer-churn-data-v2.zip\n",
      "datasets/tabular/customer-churn/customer-churn-data.zip\n",
      "datasets/tabular/dirty-titanic/titanic-dirty-4.csv\n",
      "datasets/tabular/fleet-predictive-maintenance/example_fleet_info.csv\n",
      "datasets/tabular/fleet-predictive-maintenance/example_fleet_sensor_logs.csv\n",
      "datasets/tabular/fraud_detection/synthethic_fraud_detection_SA/churn.txt\n",
      "datasets/tabular/fraud_detection/synthethic_fraud_detection_SA/identity.csv\n",
      "datasets/tabular/fraud_detection/synthethic_fraud_detection_SA/sampled_identity.csv\n",
      "datasets/tabular/fraud_detection/synthethic_fraud_detection_SA/sampled_transactions.csv\n",
      "datasets/tabular/fraud_detection/synthethic_fraud_detection_SA/transaction.csv\n",
      "datasets/tabular/iris/iris.data\n",
      "datasets/tabular/iris/iris_test.csv\n",
      "datasets/tabular/iris/iris_train.csv\n",
      "datasets/tabular/mlg-ulb-credit-card/creditcard_csv.csv\n",
      "datasets/tabular/online_retail/online_retail_II_20k.csv\n",
      "datasets/tabular/synthetic-music/ratings.csv\n",
      "datasets/tabular/synthetic-music/ratings_new.csv\n",
      "datasets/tabular/synthetic-music/sample_tracks.csv\n",
      "datasets/tabular/synthetic-music/sample_user.csv\n",
      "datasets/tabular/synthetic-music/tracks.csv\n",
      "datasets/tabular/synthetic-music/tracks_new.csv\n",
      "datasets/tabular/synthetic-music/train_data.zip\n",
      "datasets/tabular/synthetic-music/train_data_headers.csv\n",
      "datasets/tabular/synthetic-music/val_data.zip\n",
      "datasets/tabular/synthetic-music/val_data_headers.csv\n",
      "datasets/tabular/synthetic/churn.csv\n",
      "datasets/tabular/synthetic/churn.txt\n",
      "datasets/tabular/synthetic_automobile_claims/claims.csv\n",
      "datasets/tabular/synthetic_automobile_claims/customers.csv\n",
      "datasets/tabular/synthetic_automobile_claims/test.csv\n",
      "datasets/tabular/synthetic_automobile_claims/train.csv\n",
      "datasets/tabular/synthetic_automobile_claims/validation.csv\n",
      "datasets/tabular/synthetic_churn_prediction_with_text/test.jsonl\n",
      "datasets/tabular/synthetic_churn_prediction_with_text/train.jsonl\n",
      "datasets/tabular/synthetic_churn_prediction_with_text/validation.jsonl\n",
      "datasets/tabular/synthetic_credit_card_transactions/credit_card_transactions-ibm_v2.csv\n",
      "datasets/tabular/synthetic_credit_card_transactions/sd254_cards.csv\n",
      "datasets/tabular/synthetic_credit_card_transactions/sd254_users.csv\n",
      "datasets/tabular/synthetic_credit_card_transactions/user0_credit_card_transactions.csv\n",
      "datasets/tabular/synthetic_financial/financial_transactions_mini.csv\n",
      "datasets/tabular/synthetic_product_shipping/product_descriptions.csv\n",
      "datasets/tabular/synthetic_product_shipping/shipping_logs.csv\n",
      "datasets/tabular/timeseries-quantile-selection-dataflow/Quantile-Selector.flow\n",
      "datasets/tabular/timeseries-quantile-selection-dataflow/forecasted-values-dummy.csv\n",
      "datasets/tabular/timeseries-quantile-selection-dataflow/item-financial-metadata-dummy.csv\n",
      "datasets/tabular/tweets_dataset/TheSocialDilemma.csv\n",
      "datasets/tabular/uci_abalone/abalone-with-headers.csv\n",
      "datasets/tabular/uci_abalone/abalone.csv\n",
      "datasets/tabular/uci_abalone/abalone.libsvm\n",
      "datasets/tabular/uci_abalone/preprocessed/test.csv\n",
      "datasets/tabular/uci_abalone/preprocessed/train.csv\n",
      "datasets/tabular/uci_abalone/preprocessed/validation.csv\n",
      "datasets/tabular/uci_abalone/test/abalone.test\n",
      "datasets/tabular/uci_abalone/test_csv/abalone_dataset1_test.csv\n",
      "datasets/tabular/uci_abalone/train/abalone.train\n",
      "datasets/tabular/uci_abalone/train_csv/abalone_dataset1_train.csv\n",
      "datasets/tabular/uci_abalone/validation/abalone.validation\n",
      "datasets/tabular/uci_abalone/validation_csv/abalone_dataset1_validation.csv\n",
      "datasets/tabular/uci_adult/adult.data\n",
      "datasets/tabular/uci_adult/adult.names\n",
      "datasets/tabular/uci_adult/adult.test\n",
      "datasets/tabular/uci_bank_marketing/bank-additional-full.csv\n",
      "datasets/tabular/uci_covtype/covtype.data.gz\n",
      "datasets/tabular/uci_heart_failure/heart_failure_clinical_records_dataset.csv\n",
      "datasets/tabular/uci_polish_bankruptcy/data.zip\n",
      "datasets/tabular/uci_statlog_german_credit_data/SouthGermanCredit.asc\n",
      "datasets/tabular/uci_statlog_german_credit_data/german.data\n",
      "datasets/tabular/uci_statlog_german_credit_data/german.doc\n",
      "datasets/tabular/uci_statlog_german_credit_data/german_credit_data.csv\n",
      "datasets/tabular/uci_student_performance/README.txt\n",
      "datasets/tabular/uci_student_performance/student-mat.csv\n",
      "datasets/tabular/womens_clothing_ecommerce/Womens_Clothing_E-Commerce_Reviews.csv\n",
      "datasets/tabular/xgb-churn/test-dataset-input-cols.csv\n",
      "datasets/tabular/xgb-churn/test-dataset.csv\n"
     ]
    }
   ],
   "source": [
    "import boto3\n",
    "\n",
    "\n",
    "# prints all objects in the sagemaker bucket with object key prefix of datasets/\n",
    "region = boto3.Session().region_name\n",
    "s3 = boto3.client('s3')\n",
    "\n",
    "paginator = s3.get_paginator('list_objects_v2')\n",
    "pages = paginator.paginate(Bucket=f\"sagemaker-example-files-prod-{region}\", Prefix=\"datasets/tabular\")\n",
    "\n",
    "for page in pages:\n",
    "    for obj in page.get('Contents', []):\n",
    "        print(obj['Key'])\n"
   ]
  },
  {
   "cell_type": "code",
   "execution_count": 8,
   "metadata": {},
   "outputs": [],
   "source": [
    "REGION = boto3.Session().region_name\n",
    "DATA_HOST = f\"sagemaker-example-files-prod-{REGION}\"\n",
    "DATA_PATH = \"datasets/tabular/fraud_detection/synthethic_fraud_detection_SA/\"\n",
    "ARCHIVE_NAME = \"transaction.csv\""
   ]
  },
  {
   "cell_type": "code",
   "execution_count": 3,
   "metadata": {},
   "outputs": [],
   "source": [
    "# download dataset to notebook instance\n",
    "s3 = boto3.client('s3')\n",
    "s3.download_file(DATA_HOST,DATA_PATH+ARCHIVE_NAME,ARCHIVE_NAME)"
   ]
  },
  {
   "cell_type": "code",
   "execution_count": 9,
   "metadata": {},
   "outputs": [],
   "source": [
    "bucket = 'sagemaker-fraud-detection-ml'\n",
    "s3.upload_file('transaction.csv', 'raw_data.csv')"
   ]
  },
  {
   "cell_type": "markdown",
   "metadata": {},
   "source": [
    "# Define a Pipeline\n",
    "The pipeline will include a preprocessing step that will assume input data is in a particular format and then conduct the following steps:\n",
    "* Clean data\n",
    "* Engineer new features\n",
    "* Perform train-test split\n",
    "\n",
    "Addiitionally, this pipeline will enable users to insert training parameters at the time they execute the pipeline - the parameters are this way not baked into the code. The parameters will be:\n",
    "* **Tree Max Depth**; max depth of our XGBoost trees can be\n",
    "* **Validation Loss**; the maximum loss, from running inference against the validation dataset, that permits the model being registered to the model registry"
   ]
  },
  {
   "cell_type": "code",
   "execution_count": 20,
   "metadata": {},
   "outputs": [],
   "source": [
    "import sagemaker\n",
    "\n",
    "from sagemaker.workflow.pipeline import Pipeline\n",
    "from sagemaker.workflow.pipeline_context import PipelineSession\n",
    "\n",
    "from sagemaker.workflow.steps import ProcessingStep\n",
    "from sagemaker.sklearn.processing import SKLearnProcessor\n",
    "from sagemaker.processing import (\n",
    "    ProcessingInput,\n",
    "    ProcessingOutput\n",
    ")\n",
    "\n",
    "from sagemaker.inputs import TrainingInput\n",
    "\n",
    "from sagemaker.workflow.steps import TrainingStep\n",
    "from sagemaker.workflow.fail_step import FailStep\n",
    "from sagemaker.workflow.condition_step import ConditionStep\n",
    "\n",
    "from sagemaker.workflow.conditions import ConditionLessThanOrEqualTo\n",
    "from sagemaker.workflow.functions import Join\n",
    "\n",
    "from sagemaker.workflow.parameters import (\n",
    "    ParameterInteger,\n",
    "    ParameterString,\n",
    "    ParameterFloat,\n",
    "    ParameterBoolean\n",
    ")"
   ]
  },
  {
   "cell_type": "code",
   "execution_count": 21,
   "metadata": {},
   "outputs": [],
   "source": [
    "# high-level\n",
    "session = sagemaker.Session()\n",
    "role = sagemaker.get_execution_role()\n",
    "pipeline_session = PipelineSession()\n",
    "bucket = 'sagemaker-fraud-detection-ml'\n",
    "\n",
    "# pipeline parameters\n",
    "tree_max_depth = ParameterInteger(\n",
    "    name='TreeMaxDepth',\n",
    "    default_value=5\n",
    ")\n",
    "validation_loss = ParameterFloat(\n",
    "    name='ValidationLoss',\n",
    "    default_value=0.2\n",
    ")"
   ]
  },
  {
   "cell_type": "markdown",
   "metadata": {},
   "source": [
    "Define estimator to run in a pipeline session"
   ]
  },
  {
   "cell_type": "code",
   "execution_count": 22,
   "metadata": {},
   "outputs": [
    {
     "name": "stderr",
     "output_type": "stream",
     "text": [
      "INFO:sagemaker.image_uris:Ignoring unnecessary instance type: None.\n"
     ]
    }
   ],
   "source": [
    "xgb_image = sagemaker.image_uris.retrieve('xgboost', session.boto_region_name, '1.5-1')\n",
    "estimator = sagemaker.estimator.Estimator(\n",
    "    xgb_image,\n",
    "    role,\n",
    "    instance_count=1,\n",
    "    instance_type='ml.m5.large',\n",
    "    output_path=f's3://{bucket}/output',\n",
    "    sagemaker_session=pipeline_session,\n",
    ")\n",
    "estimator.set_hyperparameters(\n",
    "    max_depth=tree_max_depth,\n",
    "    objective='binary:logistic',\n",
    "    num_round=5,\n",
    ")"
   ]
  },
  {
   "cell_type": "markdown",
   "metadata": {},
   "source": [
    "Define each step of pipeline individually. Note, there is no sklearn dependencies in our processing script but the image used by the SKLearnProcessor includes the pandas library already installed - and this is an explicit dependency for our processing script. "
   ]
  },
  {
   "cell_type": "code",
   "execution_count": 23,
   "metadata": {},
   "outputs": [
    {
     "name": "stderr",
     "output_type": "stream",
     "text": [
      "INFO:sagemaker.image_uris:Defaulting to only available Python version: py3\n"
     ]
    }
   ],
   "source": [
    "processor = SKLearnProcessor(\n",
    "    framework_version='1.0-1',\n",
    "    role=role,\n",
    "    instance_type='ml.m5.large',\n",
    "    instance_count=1                          \n",
    ")\n",
    "\n",
    "preprocessing_step = ProcessingStep(\n",
    "    name='FraudDetectionProcess',\n",
    "    processor=processor,\n",
    "    code='data_processing.py',\n",
    "    inputs=[\n",
    "    \n",
    "    # define where the processor needs to look to find raw data \n",
    "        ProcessingInput(\n",
    "            input_name='raw-data',\n",
    "            source=f's3://{bucket}/raw_data.csv',\n",
    "            destination='/opt/ml/processing/input/data/',\n",
    "            s3_data_distribution_type='ShardedByS3Key'\n",
    "        )\n",
    "    ],\n",
    "\n",
    "    # define where the processor needs to look to find processed data to upload to s3\n",
    "    outputs=[\n",
    "        ProcessingOutput(\n",
    "            output_name='train',\n",
    "            source='/opt/ml/processing/output/train',\n",
    "            s3_upload_mode='EndOfJob'\n",
    "        ),\n",
    "        ProcessingOutput(\n",
    "            output_name='validation',\n",
    "            source='/opt/ml/processing/output/validation',\n",
    "            s3_upload_mode='EndOfJob'\n",
    "        ),\n",
    "        ProcessingOutput(\n",
    "            output_name='test',\n",
    "            source='/opt/ml/processing/output/test',\n",
    "            s3_upload_mode='EndOfJob'\n",
    "        ),\n",
    "    ],\n",
    "    job_arguments=['--input-data', '/opt/ml/processing/input/data/'],\n",
    ")"
   ]
  },
  {
   "cell_type": "code",
   "execution_count": 24,
   "metadata": {},
   "outputs": [],
   "source": [
    "# training inputs are dynamically linked to s3 outputs from the preprocessing step\n",
    "\n",
    "s3_input_train = TrainingInput(\n",
    "    s3_data=Join(\n",
    "        on='/', \n",
    "        values=[\n",
    "            preprocessing_step.properties.ProcessingOutputConfig.Outputs['train'].S3Output.S3Uri,\n",
    "            'train.csv'\n",
    "        ]\n",
    "    ),\n",
    "    content_type='csv'\n",
    ")\n",
    "s3_input_validate = TrainingInput(\n",
    "    s3_data=Join(\n",
    "        on='/',\n",
    "        values=[\n",
    "            preprocessing_step.properties.ProcessingOutputConfig.Outputs['validation'].S3Output.S3Uri,\n",
    "            'validation.csv'\n",
    "        ]\n",
    "    ),\n",
    "    content_type='csv'\n",
    ")"
   ]
  },
  {
   "cell_type": "code",
   "execution_count": 25,
   "metadata": {},
   "outputs": [
    {
     "name": "stderr",
     "output_type": "stream",
     "text": [
      "INFO:sagemaker.telemetry.telemetry_logging:SageMaker Python SDK will collect telemetry to help us better understand our user's needs, diagnose issues, and deliver additional features.\n",
      "To opt out of telemetry, please disable via TelemetryOptOut parameter in SDK defaults config. For more information, refer to https://sagemaker.readthedocs.io/en/stable/overview.html#configuring-and-using-defaults-with-the-sagemaker-python-sdk.\n",
      "/opt/conda/lib/python3.12/site-packages/sagemaker/workflow/pipeline_context.py:332: UserWarning: Running within a PipelineSession, there will be No Wait, No Logs, and No Job being started.\n",
      "  warnings.warn(\n"
     ]
    }
   ],
   "source": [
    "training_step = TrainingStep(\n",
    "    name='TrainingStep',\n",
    "    step_args=estimator.fit(\n",
    "        inputs={\n",
    "            'train': s3_input_train,\n",
    "            'validation': s3_input_validate\n",
    "        },\n",
    "    )\n",
    ")"
   ]
  },
  {
   "cell_type": "code",
   "execution_count": 26,
   "metadata": {},
   "outputs": [],
   "source": [
    "from sagemaker.model import Model\n",
    "from sagemaker.workflow.model_step import ModelStep\n",
    "\n",
    "model = Model(\n",
    "    image_uri=xgb_image,\n",
    "    model_data=training_step.properties.ModelArtifacts.S3ModelArtifacts,\n",
    "    sagemaker_session=pipeline_session,\n",
    "    role=role,\n",
    ")\n",
    "\n",
    "register_args = model.register(\n",
    "    content_types=['text/csv'],\n",
    "    response_types=['text/csv'],\n",
    "    inference_instances=['ml.m5.large'],\n",
    "    transform_instances=['ml.m5.large'],\n",
    "    model_package_group_name='fraud-detection-model-group',\n",
    "    approval_status='PendingManualApproval'\n",
    ")\n",
    "\n",
    "register_model_step = ModelStep(\n",
    "    name='FraudDetectionRegisterModel',\n",
    "    step_args=register_args,\n",
    ")"
   ]
  },
  {
   "cell_type": "markdown",
   "metadata": {},
   "source": [
    "Fail the pipeline in the event the validation loss is too high"
   ]
  },
  {
   "cell_type": "code",
   "execution_count": 27,
   "metadata": {},
   "outputs": [],
   "source": [
    "fail_step = FailStep(\n",
    "    name='FailStep',\n",
    "    error_message=Join(on=' ', values=['Pipeline was failed due to log loss >= ', validation_loss]),\n",
    ")"
   ]
  },
  {
   "cell_type": "code",
   "execution_count": 28,
   "metadata": {},
   "outputs": [],
   "source": [
    "condition_step = ConditionStep(\n",
    "    name='ModelRegistrationConditionStep',\n",
    "    conditions = [\n",
    "        ConditionLessThanOrEqualTo(\n",
    "            left=training_step.properties.FinalMetricDataList['validation:logloss'].Value,\n",
    "            right=validation_loss\n",
    "    )],\n",
    "    if_steps=[register_model_step],\n",
    "    else_steps=[fail_step],\n",
    ")"
   ]
  },
  {
   "cell_type": "markdown",
   "metadata": {},
   "source": [
    "Bring steps together to form the pipeline"
   ]
  },
  {
   "cell_type": "code",
   "execution_count": 29,
   "metadata": {},
   "outputs": [],
   "source": [
    "pipeline = Pipeline(\n",
    "    name='fraud-detection-model-pipeline',\n",
    "    steps=[preprocessing_step, training_step, condition_step],\n",
    "    parameters=[tree_max_depth, validation_loss],\n",
    ")"
   ]
  },
  {
   "cell_type": "code",
   "execution_count": 30,
   "metadata": {},
   "outputs": [
    {
     "name": "stderr",
     "output_type": "stream",
     "text": [
      "WARNING:sagemaker.workflow.utilities:Popping out 'ProcessingJobName' from the pipeline definition by default since it will be overridden at pipeline execution time. Please utilize the PipelineDefinitionConfig to persist this field in the pipeline definition if desired.\n",
      "WARNING:sagemaker.workflow.utilities:Popping out 'TrainingJobName' from the pipeline definition by default since it will be overridden at pipeline execution time. Please utilize the PipelineDefinitionConfig to persist this field in the pipeline definition if desired.\n",
      "WARNING:sagemaker.workflow._utils:Popping out 'CertifyForMarketplace' from the pipeline definition since it will be overridden in pipeline execution time.\n",
      "WARNING:sagemaker.workflow.utilities:Popping out 'ModelPackageName' from the pipeline definition by default since it will be overridden at pipeline execution time. Please utilize the PipelineDefinitionConfig to persist this field in the pipeline definition if desired.\n",
      "WARNING:sagemaker.workflow.utilities:Popping out 'ProcessingJobName' from the pipeline definition by default since it will be overridden at pipeline execution time. Please utilize the PipelineDefinitionConfig to persist this field in the pipeline definition if desired.\n",
      "WARNING:sagemaker.workflow.utilities:Popping out 'TrainingJobName' from the pipeline definition by default since it will be overridden at pipeline execution time. Please utilize the PipelineDefinitionConfig to persist this field in the pipeline definition if desired.\n",
      "WARNING:sagemaker.workflow.utilities:Popping out 'ModelPackageName' from the pipeline definition by default since it will be overridden at pipeline execution time. Please utilize the PipelineDefinitionConfig to persist this field in the pipeline definition if desired.\n"
     ]
    },
    {
     "data": {
      "text/plain": [
       "{'PipelineArn': 'arn:aws:sagemaker:eu-north-1:263108256547:pipeline/fraud-detection-model-pipeline',\n",
       " 'ResponseMetadata': {'RequestId': 'b52cc135-fc81-40d6-8901-d16c8f1e66ef',\n",
       "  'HTTPStatusCode': 200,\n",
       "  'HTTPHeaders': {'x-amzn-requestid': 'b52cc135-fc81-40d6-8901-d16c8f1e66ef',\n",
       "   'strict-transport-security': 'max-age=47304000; includeSubDomains',\n",
       "   'x-frame-options': 'DENY',\n",
       "   'content-security-policy': \"frame-ancestors 'none'\",\n",
       "   'cache-control': 'no-cache, no-store, must-revalidate',\n",
       "   'x-content-type-options': 'nosniff',\n",
       "   'content-type': 'application/x-amz-json-1.1',\n",
       "   'content-length': '121',\n",
       "   'date': 'Fri, 24 Oct 2025 08:35:53 GMT'},\n",
       "  'RetryAttempts': 0}}"
      ]
     },
     "execution_count": 30,
     "metadata": {},
     "output_type": "execute_result"
    }
   ],
   "source": [
    "pipeline.upsert(role_arn=role)"
   ]
  },
  {
   "cell_type": "code",
   "execution_count": 56,
   "metadata": {},
   "outputs": [
    {
     "data": {
      "text/plain": [
       "_PipelineExecution(arn='arn:aws:sagemaker:eu-north-1:263108256547:pipeline/fraud-detection-model-pipeline/execution/vorq2e7i21r5', sagemaker_session=<sagemaker.session.Session object at 0x7f5a98f42660>)"
      ]
     },
     "execution_count": 56,
     "metadata": {},
     "output_type": "execute_result"
    }
   ],
   "source": [
    "# programitically start the pipeline\n",
    "pipeline.start(\n",
    "    execution_display_name='conditional-model-registration',\n",
    "    execution_description='Starting from the SageMaker Studio'\n",
    ")"
   ]
  },
  {
   "cell_type": "code",
   "execution_count": null,
   "metadata": {},
   "outputs": [],
   "source": []
  }
 ],
 "metadata": {
  "kernelspec": {
   "display_name": "base",
   "language": "python",
   "name": "python3"
  },
  "language_info": {
   "codemirror_mode": {
    "name": "ipython",
    "version": 3
   },
   "file_extension": ".py",
   "mimetype": "text/x-python",
   "name": "python",
   "nbconvert_exporter": "python",
   "pygments_lexer": "ipython3",
   "version": "3.12.9"
  }
 },
 "nbformat": 4,
 "nbformat_minor": 2
}
